{
  "nbformat": 4,
  "nbformat_minor": 0,
  "metadata": {
    "colab": {
      "name": "EDA_Project_Airbnb_booking_Analysis.ipynb",
      "provenance": [],
      "collapsed_sections": [],
      "authorship_tag": "ABX9TyO9QxaKJ5G5LHErRPvLRtuF",
      "include_colab_link": true
    },
    "kernelspec": {
      "name": "python3",
      "display_name": "Python 3"
    },
    "language_info": {
      "name": "python"
    }
  },
  "cells": [
    {
      "cell_type": "markdown",
      "metadata": {
        "id": "view-in-github",
        "colab_type": "text"
      },
      "source": [
        "<a href=\"https://colab.research.google.com/github/HarshivBhatt/EDA_Project_Airbnb_booking_Analysis.ipynb/blob/main/EDA_Project_Airbnb_booking_Analysis.ipynb\" target=\"_parent\"><img src=\"https://colab.research.google.com/assets/colab-badge.svg\" alt=\"Open In Colab\"/></a>"
      ]
    },
    {
      "cell_type": "markdown",
      "metadata": {
        "id": "5ozMgtM1w8DT"
      },
      "source": [
        "#Data Analysis on Airbnb booking\n",
        "\n",
        "---\n",
        "1.   What is the average preferred price by customers according to the location?\n",
        "\n",
        "2.   No. of active host per location (Where most of the host focused to own property)\n",
        "\n",
        "5.   What is the highest price and lowest price of rent for customer according to location **OR** which host takes highest rent and lowest rent according to location\n",
        "2.   Most famous/demanded host of Airbnb in New york"
      ]
    },
    {
      "cell_type": "code",
      "metadata": {
        "id": "wXQewBrQwzBm"
      },
      "source": [
        "import numpy as np\n",
        "import pandas as pd\n",
        "import matplotlib.pyplot as plt\n",
        "%matplotlib inline\n",
        "plt.rcParams['figure.figsize'] = (10, 5)\n",
        "import seaborn as sns"
      ],
      "execution_count": 1,
      "outputs": []
    },
    {
      "cell_type": "code",
      "metadata": {
        "colab": {
          "base_uri": "https://localhost:8080/"
        },
        "id": "oQKlV-n2x5Oa",
        "outputId": "ef5ce64a-f5d3-47a4-964c-d423012ea399"
      },
      "source": [
        "from google.colab import drive\n",
        "drive.mount('/content/drive')"
      ],
      "execution_count": 2,
      "outputs": [
        {
          "output_type": "stream",
          "name": "stdout",
          "text": [
            "Mounted at /content/drive\n"
          ]
        }
      ]
    },
    {
      "cell_type": "code",
      "metadata": {
        "id": "elq6zEKCx_vB"
      },
      "source": [
        "file_path = \"/content/drive/MyDrive/Colab Notebooks/EDA Project part-1/\"\n",
        "df = pd.read_csv(file_path + \"Airbnb NYC 2019.csv\")"
      ],
      "execution_count": 3,
      "outputs": []
    },
    {
      "cell_type": "code",
      "metadata": {
        "colab": {
          "base_uri": "https://localhost:8080/"
        },
        "id": "WacSO411yHOS",
        "outputId": "1ed43e47-d9b6-40a5-dedd-cceb38dd11ae"
      },
      "source": [
        "df.info()"
      ],
      "execution_count": 4,
      "outputs": [
        {
          "output_type": "stream",
          "name": "stdout",
          "text": [
            "<class 'pandas.core.frame.DataFrame'>\n",
            "RangeIndex: 48895 entries, 0 to 48894\n",
            "Data columns (total 16 columns):\n",
            " #   Column                          Non-Null Count  Dtype  \n",
            "---  ------                          --------------  -----  \n",
            " 0   id                              48895 non-null  int64  \n",
            " 1   name                            48879 non-null  object \n",
            " 2   host_id                         48895 non-null  int64  \n",
            " 3   host_name                       48874 non-null  object \n",
            " 4   neighbourhood_group             48895 non-null  object \n",
            " 5   neighbourhood                   48895 non-null  object \n",
            " 6   latitude                        48895 non-null  float64\n",
            " 7   longitude                       48895 non-null  float64\n",
            " 8   room_type                       48895 non-null  object \n",
            " 9   price                           48895 non-null  int64  \n",
            " 10  minimum_nights                  48895 non-null  int64  \n",
            " 11  number_of_reviews               48895 non-null  int64  \n",
            " 12  last_review                     38843 non-null  object \n",
            " 13  reviews_per_month               38843 non-null  float64\n",
            " 14  calculated_host_listings_count  48895 non-null  int64  \n",
            " 15  availability_365                48895 non-null  int64  \n",
            "dtypes: float64(3), int64(7), object(6)\n",
            "memory usage: 6.0+ MB\n"
          ]
        }
      ]
    },
    {
      "cell_type": "code",
      "metadata": {
        "id": "bFtCy8RFyLti"
      },
      "source": [
        "airbnb_df = df.dropna()"
      ],
      "execution_count": 5,
      "outputs": []
    },
    {
      "cell_type": "code",
      "metadata": {
        "colab": {
          "base_uri": "https://localhost:8080/"
        },
        "id": "ULGVgCSKyR_b",
        "outputId": "f1067441-98dd-40cb-871b-92d558ec7d00"
      },
      "source": [
        "airbnb_df.info()"
      ],
      "execution_count": 6,
      "outputs": [
        {
          "output_type": "stream",
          "name": "stdout",
          "text": [
            "<class 'pandas.core.frame.DataFrame'>\n",
            "Int64Index: 38821 entries, 0 to 48852\n",
            "Data columns (total 16 columns):\n",
            " #   Column                          Non-Null Count  Dtype  \n",
            "---  ------                          --------------  -----  \n",
            " 0   id                              38821 non-null  int64  \n",
            " 1   name                            38821 non-null  object \n",
            " 2   host_id                         38821 non-null  int64  \n",
            " 3   host_name                       38821 non-null  object \n",
            " 4   neighbourhood_group             38821 non-null  object \n",
            " 5   neighbourhood                   38821 non-null  object \n",
            " 6   latitude                        38821 non-null  float64\n",
            " 7   longitude                       38821 non-null  float64\n",
            " 8   room_type                       38821 non-null  object \n",
            " 9   price                           38821 non-null  int64  \n",
            " 10  minimum_nights                  38821 non-null  int64  \n",
            " 11  number_of_reviews               38821 non-null  int64  \n",
            " 12  last_review                     38821 non-null  object \n",
            " 13  reviews_per_month               38821 non-null  float64\n",
            " 14  calculated_host_listings_count  38821 non-null  int64  \n",
            " 15  availability_365                38821 non-null  int64  \n",
            "dtypes: float64(3), int64(7), object(6)\n",
            "memory usage: 5.0+ MB\n"
          ]
        }
      ]
    },
    {
      "cell_type": "code",
      "metadata": {
        "colab": {
          "base_uri": "https://localhost:8080/",
          "height": 475
        },
        "id": "tSB_fvO7yVdK",
        "outputId": "f37ba99f-6033-4951-dc65-d8605ad65734"
      },
      "source": [
        "airbnb_df.head()"
      ],
      "execution_count": 7,
      "outputs": [
        {
          "output_type": "execute_result",
          "data": {
            "text/html": [
              "<div>\n",
              "<style scoped>\n",
              "    .dataframe tbody tr th:only-of-type {\n",
              "        vertical-align: middle;\n",
              "    }\n",
              "\n",
              "    .dataframe tbody tr th {\n",
              "        vertical-align: top;\n",
              "    }\n",
              "\n",
              "    .dataframe thead th {\n",
              "        text-align: right;\n",
              "    }\n",
              "</style>\n",
              "<table border=\"1\" class=\"dataframe\">\n",
              "  <thead>\n",
              "    <tr style=\"text-align: right;\">\n",
              "      <th></th>\n",
              "      <th>id</th>\n",
              "      <th>name</th>\n",
              "      <th>host_id</th>\n",
              "      <th>host_name</th>\n",
              "      <th>neighbourhood_group</th>\n",
              "      <th>neighbourhood</th>\n",
              "      <th>latitude</th>\n",
              "      <th>longitude</th>\n",
              "      <th>room_type</th>\n",
              "      <th>price</th>\n",
              "      <th>minimum_nights</th>\n",
              "      <th>number_of_reviews</th>\n",
              "      <th>last_review</th>\n",
              "      <th>reviews_per_month</th>\n",
              "      <th>calculated_host_listings_count</th>\n",
              "      <th>availability_365</th>\n",
              "    </tr>\n",
              "  </thead>\n",
              "  <tbody>\n",
              "    <tr>\n",
              "      <th>0</th>\n",
              "      <td>2539</td>\n",
              "      <td>Clean &amp; quiet apt home by the park</td>\n",
              "      <td>2787</td>\n",
              "      <td>John</td>\n",
              "      <td>Brooklyn</td>\n",
              "      <td>Kensington</td>\n",
              "      <td>40.64749</td>\n",
              "      <td>-73.97237</td>\n",
              "      <td>Private room</td>\n",
              "      <td>149</td>\n",
              "      <td>1</td>\n",
              "      <td>9</td>\n",
              "      <td>2018-10-19</td>\n",
              "      <td>0.21</td>\n",
              "      <td>6</td>\n",
              "      <td>365</td>\n",
              "    </tr>\n",
              "    <tr>\n",
              "      <th>1</th>\n",
              "      <td>2595</td>\n",
              "      <td>Skylit Midtown Castle</td>\n",
              "      <td>2845</td>\n",
              "      <td>Jennifer</td>\n",
              "      <td>Manhattan</td>\n",
              "      <td>Midtown</td>\n",
              "      <td>40.75362</td>\n",
              "      <td>-73.98377</td>\n",
              "      <td>Entire home/apt</td>\n",
              "      <td>225</td>\n",
              "      <td>1</td>\n",
              "      <td>45</td>\n",
              "      <td>2019-05-21</td>\n",
              "      <td>0.38</td>\n",
              "      <td>2</td>\n",
              "      <td>355</td>\n",
              "    </tr>\n",
              "    <tr>\n",
              "      <th>3</th>\n",
              "      <td>3831</td>\n",
              "      <td>Cozy Entire Floor of Brownstone</td>\n",
              "      <td>4869</td>\n",
              "      <td>LisaRoxanne</td>\n",
              "      <td>Brooklyn</td>\n",
              "      <td>Clinton Hill</td>\n",
              "      <td>40.68514</td>\n",
              "      <td>-73.95976</td>\n",
              "      <td>Entire home/apt</td>\n",
              "      <td>89</td>\n",
              "      <td>1</td>\n",
              "      <td>270</td>\n",
              "      <td>2019-07-05</td>\n",
              "      <td>4.64</td>\n",
              "      <td>1</td>\n",
              "      <td>194</td>\n",
              "    </tr>\n",
              "    <tr>\n",
              "      <th>4</th>\n",
              "      <td>5022</td>\n",
              "      <td>Entire Apt: Spacious Studio/Loft by central park</td>\n",
              "      <td>7192</td>\n",
              "      <td>Laura</td>\n",
              "      <td>Manhattan</td>\n",
              "      <td>East Harlem</td>\n",
              "      <td>40.79851</td>\n",
              "      <td>-73.94399</td>\n",
              "      <td>Entire home/apt</td>\n",
              "      <td>80</td>\n",
              "      <td>10</td>\n",
              "      <td>9</td>\n",
              "      <td>2018-11-19</td>\n",
              "      <td>0.10</td>\n",
              "      <td>1</td>\n",
              "      <td>0</td>\n",
              "    </tr>\n",
              "    <tr>\n",
              "      <th>5</th>\n",
              "      <td>5099</td>\n",
              "      <td>Large Cozy 1 BR Apartment In Midtown East</td>\n",
              "      <td>7322</td>\n",
              "      <td>Chris</td>\n",
              "      <td>Manhattan</td>\n",
              "      <td>Murray Hill</td>\n",
              "      <td>40.74767</td>\n",
              "      <td>-73.97500</td>\n",
              "      <td>Entire home/apt</td>\n",
              "      <td>200</td>\n",
              "      <td>3</td>\n",
              "      <td>74</td>\n",
              "      <td>2019-06-22</td>\n",
              "      <td>0.59</td>\n",
              "      <td>1</td>\n",
              "      <td>129</td>\n",
              "    </tr>\n",
              "  </tbody>\n",
              "</table>\n",
              "</div>"
            ],
            "text/plain": [
              "     id  ... availability_365\n",
              "0  2539  ...              365\n",
              "1  2595  ...              355\n",
              "3  3831  ...              194\n",
              "4  5022  ...                0\n",
              "5  5099  ...              129\n",
              "\n",
              "[5 rows x 16 columns]"
            ]
          },
          "metadata": {},
          "execution_count": 7
        }
      ]
    },
    {
      "cell_type": "code",
      "metadata": {
        "colab": {
          "base_uri": "https://localhost:8080/",
          "height": 295
        },
        "id": "SnDS7DRzyYdB",
        "outputId": "f7af9c98-3470-40fe-ae9b-3724e9d3f46b"
      },
      "source": [
        "airbnb_df.describe()"
      ],
      "execution_count": 8,
      "outputs": [
        {
          "output_type": "execute_result",
          "data": {
            "text/html": [
              "<div>\n",
              "<style scoped>\n",
              "    .dataframe tbody tr th:only-of-type {\n",
              "        vertical-align: middle;\n",
              "    }\n",
              "\n",
              "    .dataframe tbody tr th {\n",
              "        vertical-align: top;\n",
              "    }\n",
              "\n",
              "    .dataframe thead th {\n",
              "        text-align: right;\n",
              "    }\n",
              "</style>\n",
              "<table border=\"1\" class=\"dataframe\">\n",
              "  <thead>\n",
              "    <tr style=\"text-align: right;\">\n",
              "      <th></th>\n",
              "      <th>id</th>\n",
              "      <th>host_id</th>\n",
              "      <th>latitude</th>\n",
              "      <th>longitude</th>\n",
              "      <th>price</th>\n",
              "      <th>minimum_nights</th>\n",
              "      <th>number_of_reviews</th>\n",
              "      <th>reviews_per_month</th>\n",
              "      <th>calculated_host_listings_count</th>\n",
              "      <th>availability_365</th>\n",
              "    </tr>\n",
              "  </thead>\n",
              "  <tbody>\n",
              "    <tr>\n",
              "      <th>count</th>\n",
              "      <td>3.882100e+04</td>\n",
              "      <td>3.882100e+04</td>\n",
              "      <td>38821.000000</td>\n",
              "      <td>38821.000000</td>\n",
              "      <td>38821.000000</td>\n",
              "      <td>38821.000000</td>\n",
              "      <td>38821.000000</td>\n",
              "      <td>38821.000000</td>\n",
              "      <td>38821.000000</td>\n",
              "      <td>38821.000000</td>\n",
              "    </tr>\n",
              "    <tr>\n",
              "      <th>mean</th>\n",
              "      <td>1.810081e+07</td>\n",
              "      <td>6.424582e+07</td>\n",
              "      <td>40.728129</td>\n",
              "      <td>-73.951149</td>\n",
              "      <td>142.332526</td>\n",
              "      <td>5.869220</td>\n",
              "      <td>29.290255</td>\n",
              "      <td>1.373229</td>\n",
              "      <td>5.166611</td>\n",
              "      <td>114.886299</td>\n",
              "    </tr>\n",
              "    <tr>\n",
              "      <th>std</th>\n",
              "      <td>1.069372e+07</td>\n",
              "      <td>7.589752e+07</td>\n",
              "      <td>0.054991</td>\n",
              "      <td>0.046693</td>\n",
              "      <td>196.994756</td>\n",
              "      <td>17.389026</td>\n",
              "      <td>48.182900</td>\n",
              "      <td>1.680328</td>\n",
              "      <td>26.302954</td>\n",
              "      <td>129.529950</td>\n",
              "    </tr>\n",
              "    <tr>\n",
              "      <th>min</th>\n",
              "      <td>2.539000e+03</td>\n",
              "      <td>2.438000e+03</td>\n",
              "      <td>40.506410</td>\n",
              "      <td>-74.244420</td>\n",
              "      <td>0.000000</td>\n",
              "      <td>1.000000</td>\n",
              "      <td>1.000000</td>\n",
              "      <td>0.010000</td>\n",
              "      <td>1.000000</td>\n",
              "      <td>0.000000</td>\n",
              "    </tr>\n",
              "    <tr>\n",
              "      <th>25%</th>\n",
              "      <td>8.721444e+06</td>\n",
              "      <td>7.029525e+06</td>\n",
              "      <td>40.688640</td>\n",
              "      <td>-73.982460</td>\n",
              "      <td>69.000000</td>\n",
              "      <td>1.000000</td>\n",
              "      <td>3.000000</td>\n",
              "      <td>0.190000</td>\n",
              "      <td>1.000000</td>\n",
              "      <td>0.000000</td>\n",
              "    </tr>\n",
              "    <tr>\n",
              "      <th>50%</th>\n",
              "      <td>1.887286e+07</td>\n",
              "      <td>2.837092e+07</td>\n",
              "      <td>40.721710</td>\n",
              "      <td>-73.954810</td>\n",
              "      <td>101.000000</td>\n",
              "      <td>2.000000</td>\n",
              "      <td>9.000000</td>\n",
              "      <td>0.720000</td>\n",
              "      <td>1.000000</td>\n",
              "      <td>55.000000</td>\n",
              "    </tr>\n",
              "    <tr>\n",
              "      <th>75%</th>\n",
              "      <td>2.756746e+07</td>\n",
              "      <td>1.018905e+08</td>\n",
              "      <td>40.762990</td>\n",
              "      <td>-73.935020</td>\n",
              "      <td>170.000000</td>\n",
              "      <td>4.000000</td>\n",
              "      <td>33.000000</td>\n",
              "      <td>2.020000</td>\n",
              "      <td>2.000000</td>\n",
              "      <td>229.000000</td>\n",
              "    </tr>\n",
              "    <tr>\n",
              "      <th>max</th>\n",
              "      <td>3.645581e+07</td>\n",
              "      <td>2.738417e+08</td>\n",
              "      <td>40.913060</td>\n",
              "      <td>-73.712990</td>\n",
              "      <td>10000.000000</td>\n",
              "      <td>1250.000000</td>\n",
              "      <td>629.000000</td>\n",
              "      <td>58.500000</td>\n",
              "      <td>327.000000</td>\n",
              "      <td>365.000000</td>\n",
              "    </tr>\n",
              "  </tbody>\n",
              "</table>\n",
              "</div>"
            ],
            "text/plain": [
              "                 id  ...  availability_365\n",
              "count  3.882100e+04  ...      38821.000000\n",
              "mean   1.810081e+07  ...        114.886299\n",
              "std    1.069372e+07  ...        129.529950\n",
              "min    2.539000e+03  ...          0.000000\n",
              "25%    8.721444e+06  ...          0.000000\n",
              "50%    1.887286e+07  ...         55.000000\n",
              "75%    2.756746e+07  ...        229.000000\n",
              "max    3.645581e+07  ...        365.000000\n",
              "\n",
              "[8 rows x 10 columns]"
            ]
          },
          "metadata": {},
          "execution_count": 8
        }
      ]
    },
    {
      "cell_type": "code",
      "metadata": {
        "colab": {
          "base_uri": "https://localhost:8080/"
        },
        "id": "0ajuSundyfMh",
        "outputId": "015dd124-9513-4c7e-f2fd-1a564c583fe3"
      },
      "source": [
        "airbnb_df.isnull().sum()"
      ],
      "execution_count": 9,
      "outputs": [
        {
          "output_type": "execute_result",
          "data": {
            "text/plain": [
              "id                                0\n",
              "name                              0\n",
              "host_id                           0\n",
              "host_name                         0\n",
              "neighbourhood_group               0\n",
              "neighbourhood                     0\n",
              "latitude                          0\n",
              "longitude                         0\n",
              "room_type                         0\n",
              "price                             0\n",
              "minimum_nights                    0\n",
              "number_of_reviews                 0\n",
              "last_review                       0\n",
              "reviews_per_month                 0\n",
              "calculated_host_listings_count    0\n",
              "availability_365                  0\n",
              "dtype: int64"
            ]
          },
          "metadata": {},
          "execution_count": 9
        }
      ]
    },
    {
      "cell_type": "markdown",
      "metadata": {
        "id": "UrZxr1OIyj27"
      },
      "source": [
        "#1.What is the average preferred price by customers according to the location?"
      ]
    },
    {
      "cell_type": "code",
      "metadata": {
        "id": "7cTNV5wSyi-y"
      },
      "source": [
        "airbnb_df.head()"
      ],
      "execution_count": null,
      "outputs": []
    },
    {
      "cell_type": "code",
      "metadata": {
        "id": "JA1GY_mYyoM0"
      },
      "source": [
        "#Average_price of property according to the location\n",
        "avg_preffered_price_df = airbnb_df.groupby(['neighbourhood_group','room_type'], as_index=False)['price'].mean().rename(columns={'neighbourhood_group':'Location','price':'Average Price'})\n",
        "avg_preffered_price_df"
      ],
      "execution_count": null,
      "outputs": []
    },
    {
      "cell_type": "code",
      "metadata": {
        "colab": {
          "base_uri": "https://localhost:8080/",
          "height": 234
        },
        "id": "R-WdmLNR0HJi",
        "outputId": "a437401d-4149-4fa0-cc55-b41b42c72ace"
      },
      "source": [
        "#Unstack the group by information for plot the graph\n",
        "avg_preffered_price_df = airbnb_df.groupby(['neighbourhood_group','room_type'])['price'].mean().unstack()\n",
        "avg_preffered_price_df"
      ],
      "execution_count": 16,
      "outputs": [
        {
          "output_type": "execute_result",
          "data": {
            "text/html": [
              "<div>\n",
              "<style scoped>\n",
              "    .dataframe tbody tr th:only-of-type {\n",
              "        vertical-align: middle;\n",
              "    }\n",
              "\n",
              "    .dataframe tbody tr th {\n",
              "        vertical-align: top;\n",
              "    }\n",
              "\n",
              "    .dataframe thead th {\n",
              "        text-align: right;\n",
              "    }\n",
              "</style>\n",
              "<table border=\"1\" class=\"dataframe\">\n",
              "  <thead>\n",
              "    <tr style=\"text-align: right;\">\n",
              "      <th>room_type</th>\n",
              "      <th>Entire home/apt</th>\n",
              "      <th>Private room</th>\n",
              "      <th>Shared room</th>\n",
              "    </tr>\n",
              "    <tr>\n",
              "      <th>neighbourhood_group</th>\n",
              "      <th></th>\n",
              "      <th></th>\n",
              "      <th></th>\n",
              "    </tr>\n",
              "  </thead>\n",
              "  <tbody>\n",
              "    <tr>\n",
              "      <th>Bronx</th>\n",
              "      <td>120.938312</td>\n",
              "      <td>57.093511</td>\n",
              "      <td>56.930233</td>\n",
              "    </tr>\n",
              "    <tr>\n",
              "      <th>Brooklyn</th>\n",
              "      <td>171.281897</td>\n",
              "      <td>73.349562</td>\n",
              "      <td>45.458621</td>\n",
              "    </tr>\n",
              "    <tr>\n",
              "      <th>Manhattan</th>\n",
              "      <td>230.200964</td>\n",
              "      <td>106.607488</td>\n",
              "      <td>77.980337</td>\n",
              "    </tr>\n",
              "    <tr>\n",
              "      <th>Queens</th>\n",
              "      <td>139.225603</td>\n",
              "      <td>69.302838</td>\n",
              "      <td>64.467105</td>\n",
              "    </tr>\n",
              "    <tr>\n",
              "      <th>Staten Island</th>\n",
              "      <td>125.366667</td>\n",
              "      <td>57.584906</td>\n",
              "      <td>57.600000</td>\n",
              "    </tr>\n",
              "  </tbody>\n",
              "</table>\n",
              "</div>"
            ],
            "text/plain": [
              "room_type            Entire home/apt  Private room  Shared room\n",
              "neighbourhood_group                                            \n",
              "Bronx                     120.938312     57.093511    56.930233\n",
              "Brooklyn                  171.281897     73.349562    45.458621\n",
              "Manhattan                 230.200964    106.607488    77.980337\n",
              "Queens                    139.225603     69.302838    64.467105\n",
              "Staten Island             125.366667     57.584906    57.600000"
            ]
          },
          "metadata": {},
          "execution_count": 16
        }
      ]
    },
    {
      "cell_type": "code",
      "metadata": {
        "colab": {
          "base_uri": "https://localhost:8080/",
          "height": 408
        },
        "id": "sGz4Kt7M0aYq",
        "outputId": "c408fb5e-dfbf-4c08-f841-4464b1fac6c3"
      },
      "source": [
        "#Graph of average price of property according to location\n",
        "avg_preffered_price_df.plot.bar()"
      ],
      "execution_count": 17,
      "outputs": [
        {
          "output_type": "execute_result",
          "data": {
            "text/plain": [
              "<matplotlib.axes._subplots.AxesSubplot at 0x7fdc9a45be90>"
            ]
          },
          "metadata": {},
          "execution_count": 17
        },
        {
          "output_type": "display_data",
          "data": {
            "image/png": "[encoded data removed]",
            "text/plain": [
              "<Figure size 720x360 with 1 Axes>"
            ]
          },
          "metadata": {
            "needs_background": "light"
          }
        }
      ]
    },
    {
      "cell_type": "markdown",
      "metadata": {
        "id": "3IUayR_dywOq"
      },
      "source": [
        "#2. No. of active host per location (Where most of the host focused to own property)"
      ]
    },
    {
      "cell_type": "code",
      "metadata": {
        "colab": {
          "base_uri": "https://localhost:8080/",
          "height": 203
        },
        "id": "OCkMczsjyyta",
        "outputId": "6a48f7ee-3776-43a5-f15b-ccdb6af2eb07"
      },
      "source": [
        "no_of_host_per_location = airbnb_df.groupby('neighbourhood_group',as_index=False)['host_id'].count().sort_values(['host_id'], ascending=False).rename(columns={'neighbourhood_group':'Location','host_id':'Host'})\n",
        "no_of_host_per_location"
      ],
      "execution_count": 14,
      "outputs": [
        {
          "output_type": "execute_result",
          "data": {
            "text/html": [
              "<div>\n",
              "<style scoped>\n",
              "    .dataframe tbody tr th:only-of-type {\n",
              "        vertical-align: middle;\n",
              "    }\n",
              "\n",
              "    .dataframe tbody tr th {\n",
              "        vertical-align: top;\n",
              "    }\n",
              "\n",
              "    .dataframe thead th {\n",
              "        text-align: right;\n",
              "    }\n",
              "</style>\n",
              "<table border=\"1\" class=\"dataframe\">\n",
              "  <thead>\n",
              "    <tr style=\"text-align: right;\">\n",
              "      <th></th>\n",
              "      <th>Location</th>\n",
              "      <th>Host</th>\n",
              "    </tr>\n",
              "  </thead>\n",
              "  <tbody>\n",
              "    <tr>\n",
              "      <th>2</th>\n",
              "      <td>Manhattan</td>\n",
              "      <td>16621</td>\n",
              "    </tr>\n",
              "    <tr>\n",
              "      <th>1</th>\n",
              "      <td>Brooklyn</td>\n",
              "      <td>16439</td>\n",
              "    </tr>\n",
              "    <tr>\n",
              "      <th>3</th>\n",
              "      <td>Queens</td>\n",
              "      <td>4572</td>\n",
              "    </tr>\n",
              "    <tr>\n",
              "      <th>0</th>\n",
              "      <td>Bronx</td>\n",
              "      <td>875</td>\n",
              "    </tr>\n",
              "    <tr>\n",
              "      <th>4</th>\n",
              "      <td>Staten Island</td>\n",
              "      <td>314</td>\n",
              "    </tr>\n",
              "  </tbody>\n",
              "</table>\n",
              "</div>"
            ],
            "text/plain": [
              "        Location   Host\n",
              "2      Manhattan  16621\n",
              "1       Brooklyn  16439\n",
              "3         Queens   4572\n",
              "0          Bronx    875\n",
              "4  Staten Island    314"
            ]
          },
          "metadata": {},
          "execution_count": 14
        }
      ]
    },
    {
      "cell_type": "markdown",
      "metadata": {
        "id": "AHqkIJMvy64a"
      },
      "source": [
        "#Answer: Manhattan is most focused place for host to do their business\n"
      ]
    },
    {
      "cell_type": "code",
      "metadata": {
        "colab": {
          "base_uri": "https://localhost:8080/"
        },
        "id": "ajCIX7BL08C6",
        "outputId": "f927cee6-8f74-413d-c7a4-b6bbe3e84ec4"
      },
      "source": [
        "no_of_host_per_location = airbnb_df.groupby('neighbourhood_group')['host_id'].count()\n",
        "no_of_host_per_location"
      ],
      "execution_count": 23,
      "outputs": [
        {
          "output_type": "execute_result",
          "data": {
            "text/plain": [
              "neighbourhood_group\n",
              "Bronx              875\n",
              "Brooklyn         16439\n",
              "Manhattan        16621\n",
              "Queens            4572\n",
              "Staten Island      314\n",
              "Name: host_id, dtype: int64"
            ]
          },
          "metadata": {},
          "execution_count": 23
        }
      ]
    },
    {
      "cell_type": "code",
      "metadata": {
        "colab": {
          "base_uri": "https://localhost:8080/",
          "height": 368
        },
        "id": "JahN3mtU1H3q",
        "outputId": "87071e48-35b5-4801-fa38-17d026d6038e"
      },
      "source": [
        "#Graph\n",
        "plt.legend(labels = ['No. of Host'])\n",
        "plt.plot(no_of_host_per_location)\n",
        "plt.title('Number of host per location')\n",
        "plt.ylabel('Host')\n",
        "plt.xlabel('Location')"
      ],
      "execution_count": 24,
      "outputs": [
        {
          "output_type": "execute_result",
          "data": {
            "text/plain": [
              "Text(0.5, 0, 'Location')"
            ]
          },
          "metadata": {},
          "execution_count": 24
        },
        {
          "output_type": "display_data",
          "data": {
            "image/png": "[encoded data removed]",
            "text/plain": [
              "<Figure size 720x360 with 1 Axes>"
            ]
          },
          "metadata": {
            "needs_background": "light"
          }
        }
      ]
    },
    {
      "cell_type": "code",
      "metadata": {
        "colab": {
          "base_uri": "https://localhost:8080/",
          "height": 295
        },
        "id": "6v_o1s6MD9xB",
        "outputId": "2b8e1cbf-48d3-4cd6-dfcf-82040004298b"
      },
      "source": [
        "airbnb_df.describe()"
      ],
      "execution_count": 25,
      "outputs": [
        {
          "output_type": "execute_result",
          "data": {
            "text/html": [
              "<div>\n",
              "<style scoped>\n",
              "    .dataframe tbody tr th:only-of-type {\n",
              "        vertical-align: middle;\n",
              "    }\n",
              "\n",
              "    .dataframe tbody tr th {\n",
              "        vertical-align: top;\n",
              "    }\n",
              "\n",
              "    .dataframe thead th {\n",
              "        text-align: right;\n",
              "    }\n",
              "</style>\n",
              "<table border=\"1\" class=\"dataframe\">\n",
              "  <thead>\n",
              "    <tr style=\"text-align: right;\">\n",
              "      <th></th>\n",
              "      <th>id</th>\n",
              "      <th>host_id</th>\n",
              "      <th>latitude</th>\n",
              "      <th>longitude</th>\n",
              "      <th>price</th>\n",
              "      <th>minimum_nights</th>\n",
              "      <th>number_of_reviews</th>\n",
              "      <th>reviews_per_month</th>\n",
              "      <th>calculated_host_listings_count</th>\n",
              "      <th>availability_365</th>\n",
              "    </tr>\n",
              "  </thead>\n",
              "  <tbody>\n",
              "    <tr>\n",
              "      <th>count</th>\n",
              "      <td>3.882100e+04</td>\n",
              "      <td>3.882100e+04</td>\n",
              "      <td>38821.000000</td>\n",
              "      <td>38821.000000</td>\n",
              "      <td>38821.000000</td>\n",
              "      <td>38821.000000</td>\n",
              "      <td>38821.000000</td>\n",
              "      <td>38821.000000</td>\n",
              "      <td>38821.000000</td>\n",
              "      <td>38821.000000</td>\n",
              "    </tr>\n",
              "    <tr>\n",
              "      <th>mean</th>\n",
              "      <td>1.810081e+07</td>\n",
              "      <td>6.424582e+07</td>\n",
              "      <td>40.728129</td>\n",
              "      <td>-73.951149</td>\n",
              "      <td>142.332526</td>\n",
              "      <td>5.869220</td>\n",
              "      <td>29.290255</td>\n",
              "      <td>1.373229</td>\n",
              "      <td>5.166611</td>\n",
              "      <td>114.886299</td>\n",
              "    </tr>\n",
              "    <tr>\n",
              "      <th>std</th>\n",
              "      <td>1.069372e+07</td>\n",
              "      <td>7.589752e+07</td>\n",
              "      <td>0.054991</td>\n",
              "      <td>0.046693</td>\n",
              "      <td>196.994756</td>\n",
              "      <td>17.389026</td>\n",
              "      <td>48.182900</td>\n",
              "      <td>1.680328</td>\n",
              "      <td>26.302954</td>\n",
              "      <td>129.529950</td>\n",
              "    </tr>\n",
              "    <tr>\n",
              "      <th>min</th>\n",
              "      <td>2.539000e+03</td>\n",
              "      <td>2.438000e+03</td>\n",
              "      <td>40.506410</td>\n",
              "      <td>-74.244420</td>\n",
              "      <td>0.000000</td>\n",
              "      <td>1.000000</td>\n",
              "      <td>1.000000</td>\n",
              "      <td>0.010000</td>\n",
              "      <td>1.000000</td>\n",
              "      <td>0.000000</td>\n",
              "    </tr>\n",
              "    <tr>\n",
              "      <th>25%</th>\n",
              "      <td>8.721444e+06</td>\n",
              "      <td>7.029525e+06</td>\n",
              "      <td>40.688640</td>\n",
              "      <td>-73.982460</td>\n",
              "      <td>69.000000</td>\n",
              "      <td>1.000000</td>\n",
              "      <td>3.000000</td>\n",
              "      <td>0.190000</td>\n",
              "      <td>1.000000</td>\n",
              "      <td>0.000000</td>\n",
              "    </tr>\n",
              "    <tr>\n",
              "      <th>50%</th>\n",
              "      <td>1.887286e+07</td>\n",
              "      <td>2.837092e+07</td>\n",
              "      <td>40.721710</td>\n",
              "      <td>-73.954810</td>\n",
              "      <td>101.000000</td>\n",
              "      <td>2.000000</td>\n",
              "      <td>9.000000</td>\n",
              "      <td>0.720000</td>\n",
              "      <td>1.000000</td>\n",
              "      <td>55.000000</td>\n",
              "    </tr>\n",
              "    <tr>\n",
              "      <th>75%</th>\n",
              "      <td>2.756746e+07</td>\n",
              "      <td>1.018905e+08</td>\n",
              "      <td>40.762990</td>\n",
              "      <td>-73.935020</td>\n",
              "      <td>170.000000</td>\n",
              "      <td>4.000000</td>\n",
              "      <td>33.000000</td>\n",
              "      <td>2.020000</td>\n",
              "      <td>2.000000</td>\n",
              "      <td>229.000000</td>\n",
              "    </tr>\n",
              "    <tr>\n",
              "      <th>max</th>\n",
              "      <td>3.645581e+07</td>\n",
              "      <td>2.738417e+08</td>\n",
              "      <td>40.913060</td>\n",
              "      <td>-73.712990</td>\n",
              "      <td>10000.000000</td>\n",
              "      <td>1250.000000</td>\n",
              "      <td>629.000000</td>\n",
              "      <td>58.500000</td>\n",
              "      <td>327.000000</td>\n",
              "      <td>365.000000</td>\n",
              "    </tr>\n",
              "  </tbody>\n",
              "</table>\n",
              "</div>"
            ],
            "text/plain": [
              "                 id  ...  availability_365\n",
              "count  3.882100e+04  ...      38821.000000\n",
              "mean   1.810081e+07  ...        114.886299\n",
              "std    1.069372e+07  ...        129.529950\n",
              "min    2.539000e+03  ...          0.000000\n",
              "25%    8.721444e+06  ...          0.000000\n",
              "50%    1.887286e+07  ...         55.000000\n",
              "75%    2.756746e+07  ...        229.000000\n",
              "max    3.645581e+07  ...        365.000000\n",
              "\n",
              "[8 rows x 10 columns]"
            ]
          },
          "metadata": {},
          "execution_count": 25
        }
      ]
    },
    {
      "cell_type": "markdown",
      "metadata": {
        "id": "5GoFdwyzDyF6"
      },
      "source": [
        "#Points to be noted:\n",
        "\n",
        "1. Here we can see that there is minimum price 0$.We have to fix it anyway because Airbnb is not provide free stay in any hotel.  \n",
        "Solution: For that we check where the price is 0. We create one funtion in which as per minimum nights the price will be set as per formula [Refer below cells for more detail]\n",
        "\n",
        "2. There are some entries in dataset in which minimum nights = 1 but it's respective price is 0\n",
        " Solution: We replace the price value with the mean value of price which amount is less than 100$. [Refer below cells for more detail]\n",
        "\n",
        "\n",
        "\n",
        "\n",
        "\n",
        "\n"
      ]
    },
    {
      "cell_type": "code",
      "metadata": {
        "id": "XTz80VPvG8IJ"
      },
      "source": [
        "airbnb_df[airbnb_df['minimum_nights'] ==1].sort_values(['price', 'minimum_nights'], ascending=[True, True])"
      ],
      "execution_count": null,
      "outputs": []
    },
    {
      "cell_type": "code",
      "metadata": {
        "colab": {
          "base_uri": "https://localhost:8080/"
        },
        "id": "rQc2LOUQHGwS",
        "outputId": "dee676fd-5785-40e3-e886-8d0558eb33d3"
      },
      "source": [
        "#Get the number of values which price is less than 100$\n",
        "airbnb_df.loc[airbnb_df['price'] < 100,'price'].count()"
      ],
      "execution_count": 27,
      "outputs": [
        {
          "output_type": "execute_result",
          "data": {
            "text/plain": [
              "17871"
            ]
          },
          "metadata": {},
          "execution_count": 27
        }
      ]
    },
    {
      "cell_type": "code",
      "metadata": {
        "id": "eDAJALfdKi41"
      },
      "source": [
        "#Make a copy of original dataframe to perform additional operation for get the desire result\n",
        "airbnb_price_df = airbnb_df.copy()"
      ],
      "execution_count": 14,
      "outputs": []
    },
    {
      "cell_type": "code",
      "metadata": {
        "colab": {
          "base_uri": "https://localhost:8080/"
        },
        "id": "4N1ob0xILGMt",
        "outputId": "01bb9ee9-ab76-4fed-bbe8-40d6cbc31945"
      },
      "source": [
        "round(airbnb_df.loc[airbnb_df['price'] < 100,'price'].mean())"
      ],
      "execution_count": 15,
      "outputs": [
        {
          "output_type": "execute_result",
          "data": {
            "text/plain": [
              "65"
            ]
          },
          "metadata": {},
          "execution_count": 15
        }
      ]
    },
    {
      "cell_type": "code",
      "metadata": {
        "id": "QQNBuLBvKrAL"
      },
      "source": [
        "#Change the value of price where minimum night = 1 and price of their property is less than 50$\n",
        "airbnb_price_df['price'] = np.where(\n",
        "   (airbnb_price_df['price'] <= 50) & (airbnb_price_df['minimum_nights'] == 1) ,round(airbnb_df.loc[airbnb_df['price'] < 100,'price'].mean()) , airbnb_price_df['price']\n",
        "   )"
      ],
      "execution_count": 16,
      "outputs": []
    },
    {
      "cell_type": "code",
      "metadata": {
        "id": "mAgw2cmFKx66"
      },
      "source": [
        "#still 7 rows have amount = 0$\n",
        "airbnb_price_df[airbnb_price_df['price']==0].count()"
      ],
      "execution_count": null,
      "outputs": []
    },
    {
      "cell_type": "code",
      "metadata": {
        "id": "4u4Qi13aK3rO"
      },
      "source": [
        "airbnb_price_df[airbnb_price_df['price']==0]"
      ],
      "execution_count": null,
      "outputs": []
    },
    {
      "cell_type": "code",
      "metadata": {
        "id": "NABgRtCaK7B6"
      },
      "source": [
        "#Function that gives a new price according to minimum night\n",
        "def price_calculator(min_night):\n",
        "  '''Get the price based on the minimum night you are given'''\n",
        "  mean_price = round(airbnb_df.loc[airbnb_df['price'] < 100,'price'].mean())\n",
        "  new_price = mean_price * min_night\n",
        "\n",
        "  return new_price"
      ],
      "execution_count": 25,
      "outputs": []
    },
    {
      "cell_type": "code",
      "metadata": {
        "id": "J6eIbUzVK_Qb"
      },
      "source": [
        "#Replace the value of price according to minimum night where price = 0$ \n",
        "airbnb_price_df['price'] = np.where(\n",
        "   (airbnb_price_df['price'] == 0) ,price_calculator(airbnb_price_df['minimum_nights']) , airbnb_price_df['price'])"
      ],
      "execution_count": 26,
      "outputs": []
    },
    {
      "cell_type": "code",
      "metadata": {
        "colab": {
          "base_uri": "https://localhost:8080/",
          "height": 295
        },
        "id": "MHJhFEmZMFfD",
        "outputId": "5e6e3a6b-1bd4-41d4-e059-28afcd537419"
      },
      "source": [
        "airbnb_price_df.describe()"
      ],
      "execution_count": 27,
      "outputs": [
        {
          "output_type": "execute_result",
          "data": {
            "text/html": [
              "<div>\n",
              "<style scoped>\n",
              "    .dataframe tbody tr th:only-of-type {\n",
              "        vertical-align: middle;\n",
              "    }\n",
              "\n",
              "    .dataframe tbody tr th {\n",
              "        vertical-align: top;\n",
              "    }\n",
              "\n",
              "    .dataframe thead th {\n",
              "        text-align: right;\n",
              "    }\n",
              "</style>\n",
              "<table border=\"1\" class=\"dataframe\">\n",
              "  <thead>\n",
              "    <tr style=\"text-align: right;\">\n",
              "      <th></th>\n",
              "      <th>id</th>\n",
              "      <th>host_id</th>\n",
              "      <th>latitude</th>\n",
              "      <th>longitude</th>\n",
              "      <th>price</th>\n",
              "      <th>minimum_nights</th>\n",
              "      <th>number_of_reviews</th>\n",
              "      <th>reviews_per_month</th>\n",
              "      <th>calculated_host_listings_count</th>\n",
              "      <th>availability_365</th>\n",
              "    </tr>\n",
              "  </thead>\n",
              "  <tbody>\n",
              "    <tr>\n",
              "      <th>count</th>\n",
              "      <td>3.882100e+04</td>\n",
              "      <td>3.882100e+04</td>\n",
              "      <td>38821.000000</td>\n",
              "      <td>38821.000000</td>\n",
              "      <td>38821.000000</td>\n",
              "      <td>38821.000000</td>\n",
              "      <td>38821.000000</td>\n",
              "      <td>38821.000000</td>\n",
              "      <td>38821.000000</td>\n",
              "      <td>38821.000000</td>\n",
              "    </tr>\n",
              "    <tr>\n",
              "      <th>mean</th>\n",
              "      <td>1.810081e+07</td>\n",
              "      <td>6.424582e+07</td>\n",
              "      <td>40.728129</td>\n",
              "      <td>-73.951149</td>\n",
              "      <td>143.498725</td>\n",
              "      <td>5.869220</td>\n",
              "      <td>29.290255</td>\n",
              "      <td>1.373229</td>\n",
              "      <td>5.166611</td>\n",
              "      <td>114.886299</td>\n",
              "    </tr>\n",
              "    <tr>\n",
              "      <th>std</th>\n",
              "      <td>1.069372e+07</td>\n",
              "      <td>7.589752e+07</td>\n",
              "      <td>0.054991</td>\n",
              "      <td>0.046693</td>\n",
              "      <td>196.936120</td>\n",
              "      <td>17.389026</td>\n",
              "      <td>48.182900</td>\n",
              "      <td>1.680328</td>\n",
              "      <td>26.302954</td>\n",
              "      <td>129.529950</td>\n",
              "    </tr>\n",
              "    <tr>\n",
              "      <th>min</th>\n",
              "      <td>2.539000e+03</td>\n",
              "      <td>2.438000e+03</td>\n",
              "      <td>40.506410</td>\n",
              "      <td>-74.244420</td>\n",
              "      <td>10.000000</td>\n",
              "      <td>1.000000</td>\n",
              "      <td>1.000000</td>\n",
              "      <td>0.010000</td>\n",
              "      <td>1.000000</td>\n",
              "      <td>0.000000</td>\n",
              "    </tr>\n",
              "    <tr>\n",
              "      <th>25%</th>\n",
              "      <td>8.721444e+06</td>\n",
              "      <td>7.029525e+06</td>\n",
              "      <td>40.688640</td>\n",
              "      <td>-73.982460</td>\n",
              "      <td>69.000000</td>\n",
              "      <td>1.000000</td>\n",
              "      <td>3.000000</td>\n",
              "      <td>0.190000</td>\n",
              "      <td>1.000000</td>\n",
              "      <td>0.000000</td>\n",
              "    </tr>\n",
              "    <tr>\n",
              "      <th>50%</th>\n",
              "      <td>1.887286e+07</td>\n",
              "      <td>2.837092e+07</td>\n",
              "      <td>40.721710</td>\n",
              "      <td>-73.954810</td>\n",
              "      <td>101.000000</td>\n",
              "      <td>2.000000</td>\n",
              "      <td>9.000000</td>\n",
              "      <td>0.720000</td>\n",
              "      <td>1.000000</td>\n",
              "      <td>55.000000</td>\n",
              "    </tr>\n",
              "    <tr>\n",
              "      <th>75%</th>\n",
              "      <td>2.756746e+07</td>\n",
              "      <td>1.018905e+08</td>\n",
              "      <td>40.762990</td>\n",
              "      <td>-73.935020</td>\n",
              "      <td>170.000000</td>\n",
              "      <td>4.000000</td>\n",
              "      <td>33.000000</td>\n",
              "      <td>2.020000</td>\n",
              "      <td>2.000000</td>\n",
              "      <td>229.000000</td>\n",
              "    </tr>\n",
              "    <tr>\n",
              "      <th>max</th>\n",
              "      <td>3.645581e+07</td>\n",
              "      <td>2.738417e+08</td>\n",
              "      <td>40.913060</td>\n",
              "      <td>-73.712990</td>\n",
              "      <td>10000.000000</td>\n",
              "      <td>1250.000000</td>\n",
              "      <td>629.000000</td>\n",
              "      <td>58.500000</td>\n",
              "      <td>327.000000</td>\n",
              "      <td>365.000000</td>\n",
              "    </tr>\n",
              "  </tbody>\n",
              "</table>\n",
              "</div>"
            ],
            "text/plain": [
              "                 id  ...  availability_365\n",
              "count  3.882100e+04  ...      38821.000000\n",
              "mean   1.810081e+07  ...        114.886299\n",
              "std    1.069372e+07  ...        129.529950\n",
              "min    2.539000e+03  ...          0.000000\n",
              "25%    8.721444e+06  ...          0.000000\n",
              "50%    1.887286e+07  ...         55.000000\n",
              "75%    2.756746e+07  ...        229.000000\n",
              "max    3.645581e+07  ...        365.000000\n",
              "\n",
              "[8 rows x 10 columns]"
            ]
          },
          "metadata": {},
          "execution_count": 27
        }
      ]
    },
    {
      "cell_type": "markdown",
      "metadata": {
        "id": "FuUtRkJSL9kz"
      },
      "source": [
        "#3.Where the customer pays the highest and lowest rent according  to location"
      ]
    },
    {
      "cell_type": "code",
      "metadata": {
        "colab": {
          "base_uri": "https://localhost:8080/",
          "height": 203
        },
        "id": "2dIy2uTvMBNR",
        "outputId": "08e89971-5c91-488b-c741-ec9384fa5968"
      },
      "source": [
        "#Get the highest rent according to location\n",
        "max_price_df = airbnb_price_df.groupby('neighbourhood_group',as_index=False)['price'].max().sort_values(['price'],ascending = False).rename(columns = {'price':'Maximum price','neighbourhood_group':'Location'})\n",
        "max_price_df"
      ],
      "execution_count": 28,
      "outputs": [
        {
          "output_type": "execute_result",
          "data": {
            "text/html": [
              "<div>\n",
              "<style scoped>\n",
              "    .dataframe tbody tr th:only-of-type {\n",
              "        vertical-align: middle;\n",
              "    }\n",
              "\n",
              "    .dataframe tbody tr th {\n",
              "        vertical-align: top;\n",
              "    }\n",
              "\n",
              "    .dataframe thead th {\n",
              "        text-align: right;\n",
              "    }\n",
              "</style>\n",
              "<table border=\"1\" class=\"dataframe\">\n",
              "  <thead>\n",
              "    <tr style=\"text-align: right;\">\n",
              "      <th></th>\n",
              "      <th>Location</th>\n",
              "      <th>Maximum price</th>\n",
              "    </tr>\n",
              "  </thead>\n",
              "  <tbody>\n",
              "    <tr>\n",
              "      <th>1</th>\n",
              "      <td>Brooklyn</td>\n",
              "      <td>10000</td>\n",
              "    </tr>\n",
              "    <tr>\n",
              "      <th>3</th>\n",
              "      <td>Queens</td>\n",
              "      <td>10000</td>\n",
              "    </tr>\n",
              "    <tr>\n",
              "      <th>2</th>\n",
              "      <td>Manhattan</td>\n",
              "      <td>9999</td>\n",
              "    </tr>\n",
              "    <tr>\n",
              "      <th>0</th>\n",
              "      <td>Bronx</td>\n",
              "      <td>800</td>\n",
              "    </tr>\n",
              "    <tr>\n",
              "      <th>4</th>\n",
              "      <td>Staten Island</td>\n",
              "      <td>625</td>\n",
              "    </tr>\n",
              "  </tbody>\n",
              "</table>\n",
              "</div>"
            ],
            "text/plain": [
              "        Location  Maximum price\n",
              "1       Brooklyn          10000\n",
              "3         Queens          10000\n",
              "2      Manhattan           9999\n",
              "0          Bronx            800\n",
              "4  Staten Island            625"
            ]
          },
          "metadata": {},
          "execution_count": 28
        }
      ]
    },
    {
      "cell_type": "code",
      "metadata": {
        "colab": {
          "base_uri": "https://localhost:8080/",
          "height": 203
        },
        "id": "1RA3XO7XN_-h",
        "outputId": "3661c8b2-a20d-43f9-ee1f-043ab11a2af0"
      },
      "source": [
        "##Get the lowest rent according to location\n",
        "min_price_df = airbnb_price_df.groupby('neighbourhood_group',as_index=False)['price'].min().sort_values(['price'],ascending = True).rename(columns = {'price':'Minimum price','neighbourhood_group':'Location'})\n",
        "min_price_df"
      ],
      "execution_count": 29,
      "outputs": [
        {
          "output_type": "execute_result",
          "data": {
            "text/html": [
              "<div>\n",
              "<style scoped>\n",
              "    .dataframe tbody tr th:only-of-type {\n",
              "        vertical-align: middle;\n",
              "    }\n",
              "\n",
              "    .dataframe tbody tr th {\n",
              "        vertical-align: top;\n",
              "    }\n",
              "\n",
              "    .dataframe thead th {\n",
              "        text-align: right;\n",
              "    }\n",
              "</style>\n",
              "<table border=\"1\" class=\"dataframe\">\n",
              "  <thead>\n",
              "    <tr style=\"text-align: right;\">\n",
              "      <th></th>\n",
              "      <th>Location</th>\n",
              "      <th>Minimum price</th>\n",
              "    </tr>\n",
              "  </thead>\n",
              "  <tbody>\n",
              "    <tr>\n",
              "      <th>1</th>\n",
              "      <td>Brooklyn</td>\n",
              "      <td>10</td>\n",
              "    </tr>\n",
              "    <tr>\n",
              "      <th>2</th>\n",
              "      <td>Manhattan</td>\n",
              "      <td>10</td>\n",
              "    </tr>\n",
              "    <tr>\n",
              "      <th>3</th>\n",
              "      <td>Queens</td>\n",
              "      <td>10</td>\n",
              "    </tr>\n",
              "    <tr>\n",
              "      <th>0</th>\n",
              "      <td>Bronx</td>\n",
              "      <td>20</td>\n",
              "    </tr>\n",
              "    <tr>\n",
              "      <th>4</th>\n",
              "      <td>Staten Island</td>\n",
              "      <td>20</td>\n",
              "    </tr>\n",
              "  </tbody>\n",
              "</table>\n",
              "</div>"
            ],
            "text/plain": [
              "        Location  Minimum price\n",
              "1       Brooklyn             10\n",
              "2      Manhattan             10\n",
              "3         Queens             10\n",
              "0          Bronx             20\n",
              "4  Staten Island             20"
            ]
          },
          "metadata": {},
          "execution_count": 29
        }
      ]
    },
    {
      "cell_type": "code",
      "metadata": {
        "colab": {
          "base_uri": "https://localhost:8080/",
          "height": 203
        },
        "id": "y3bRBcMROEpR",
        "outputId": "07c15f00-3035-47f3-dbbb-f55995220505"
      },
      "source": [
        "#Get the combine dataframe of minimum and maximum price according to location\n",
        "merge_price_df = pd.merge(max_price_df, min_price_df, on='Location')\n",
        "merge_price_df"
      ],
      "execution_count": 30,
      "outputs": [
        {
          "output_type": "execute_result",
          "data": {
            "text/html": [
              "<div>\n",
              "<style scoped>\n",
              "    .dataframe tbody tr th:only-of-type {\n",
              "        vertical-align: middle;\n",
              "    }\n",
              "\n",
              "    .dataframe tbody tr th {\n",
              "        vertical-align: top;\n",
              "    }\n",
              "\n",
              "    .dataframe thead th {\n",
              "        text-align: right;\n",
              "    }\n",
              "</style>\n",
              "<table border=\"1\" class=\"dataframe\">\n",
              "  <thead>\n",
              "    <tr style=\"text-align: right;\">\n",
              "      <th></th>\n",
              "      <th>Location</th>\n",
              "      <th>Maximum price</th>\n",
              "      <th>Minimum price</th>\n",
              "    </tr>\n",
              "  </thead>\n",
              "  <tbody>\n",
              "    <tr>\n",
              "      <th>0</th>\n",
              "      <td>Brooklyn</td>\n",
              "      <td>10000</td>\n",
              "      <td>10</td>\n",
              "    </tr>\n",
              "    <tr>\n",
              "      <th>1</th>\n",
              "      <td>Queens</td>\n",
              "      <td>10000</td>\n",
              "      <td>10</td>\n",
              "    </tr>\n",
              "    <tr>\n",
              "      <th>2</th>\n",
              "      <td>Manhattan</td>\n",
              "      <td>9999</td>\n",
              "      <td>10</td>\n",
              "    </tr>\n",
              "    <tr>\n",
              "      <th>3</th>\n",
              "      <td>Bronx</td>\n",
              "      <td>800</td>\n",
              "      <td>20</td>\n",
              "    </tr>\n",
              "    <tr>\n",
              "      <th>4</th>\n",
              "      <td>Staten Island</td>\n",
              "      <td>625</td>\n",
              "      <td>20</td>\n",
              "    </tr>\n",
              "  </tbody>\n",
              "</table>\n",
              "</div>"
            ],
            "text/plain": [
              "        Location  Maximum price  Minimum price\n",
              "0       Brooklyn          10000             10\n",
              "1         Queens          10000             10\n",
              "2      Manhattan           9999             10\n",
              "3          Bronx            800             20\n",
              "4  Staten Island            625             20"
            ]
          },
          "metadata": {},
          "execution_count": 30
        }
      ]
    },
    {
      "cell_type": "code",
      "metadata": {
        "id": "V0L3P4ppBp_9"
      },
      "source": [
        "merge_price_df_copy = merge_price_df.copy()"
      ],
      "execution_count": 51,
      "outputs": []
    },
    {
      "cell_type": "code",
      "metadata": {
        "id": "7CwdgIpKC_0d"
      },
      "source": [
        "def log_values(values):\n",
        "  new_max_price = np.log2(values)\n",
        "\n",
        "  return new_max_price"
      ],
      "execution_count": 52,
      "outputs": []
    },
    {
      "cell_type": "code",
      "metadata": {
        "id": "_JI0ZlpoBv79"
      },
      "source": [
        "merge_price_df_copy['Maximum price'] = merge_price_df_copy.apply(lambda x: log_values(x['Maximum price']), axis=1)\n",
        "merge_price_df_copy['Minimum price'] = merge_price_df_copy.apply(lambda x: log_values(x['Minimum price']), axis=1)"
      ],
      "execution_count": 53,
      "outputs": []
    },
    {
      "cell_type": "code",
      "metadata": {
        "colab": {
          "base_uri": "https://localhost:8080/",
          "height": 203
        },
        "id": "Ajw0DksTJ1SV",
        "outputId": "1a910663-6a65-472a-baf2-69cf8fff760f"
      },
      "source": [
        "merge_price_df_copy"
      ],
      "execution_count": 54,
      "outputs": [
        {
          "output_type": "execute_result",
          "data": {
            "text/html": [
              "<div>\n",
              "<style scoped>\n",
              "    .dataframe tbody tr th:only-of-type {\n",
              "        vertical-align: middle;\n",
              "    }\n",
              "\n",
              "    .dataframe tbody tr th {\n",
              "        vertical-align: top;\n",
              "    }\n",
              "\n",
              "    .dataframe thead th {\n",
              "        text-align: right;\n",
              "    }\n",
              "</style>\n",
              "<table border=\"1\" class=\"dataframe\">\n",
              "  <thead>\n",
              "    <tr style=\"text-align: right;\">\n",
              "      <th></th>\n",
              "      <th>Location</th>\n",
              "      <th>Maximum price</th>\n",
              "      <th>Minimum price</th>\n",
              "    </tr>\n",
              "  </thead>\n",
              "  <tbody>\n",
              "    <tr>\n",
              "      <th>0</th>\n",
              "      <td>Brooklyn</td>\n",
              "      <td>13.287712</td>\n",
              "      <td>3.321928</td>\n",
              "    </tr>\n",
              "    <tr>\n",
              "      <th>1</th>\n",
              "      <td>Queens</td>\n",
              "      <td>13.287712</td>\n",
              "      <td>3.321928</td>\n",
              "    </tr>\n",
              "    <tr>\n",
              "      <th>2</th>\n",
              "      <td>Manhattan</td>\n",
              "      <td>13.287568</td>\n",
              "      <td>3.321928</td>\n",
              "    </tr>\n",
              "    <tr>\n",
              "      <th>3</th>\n",
              "      <td>Bronx</td>\n",
              "      <td>9.643856</td>\n",
              "      <td>4.321928</td>\n",
              "    </tr>\n",
              "    <tr>\n",
              "      <th>4</th>\n",
              "      <td>Staten Island</td>\n",
              "      <td>9.287712</td>\n",
              "      <td>4.321928</td>\n",
              "    </tr>\n",
              "  </tbody>\n",
              "</table>\n",
              "</div>"
            ],
            "text/plain": [
              "        Location  Maximum price  Minimum price\n",
              "0       Brooklyn      13.287712       3.321928\n",
              "1         Queens      13.287712       3.321928\n",
              "2      Manhattan      13.287568       3.321928\n",
              "3          Bronx       9.643856       4.321928\n",
              "4  Staten Island       9.287712       4.321928"
            ]
          },
          "metadata": {},
          "execution_count": 54
        }
      ]
    },
    {
      "cell_type": "code",
      "metadata": {
        "colab": {
          "base_uri": "https://localhost:8080/",
          "height": 369
        },
        "id": "AnjAFcHsPAri",
        "outputId": "afa04e4c-c419-4519-efe7-f5dd6efd319d"
      },
      "source": [
        "merge_price_df_copy.plot(x=\"Location\", y=['Maximum price','Minimum price'], kind=\"bar\")\n",
        "plt.legend(labels = ['Maximum price','Minimum price'])\n",
        "plt.title('Maximum and minimum price according to location')"
      ],
      "execution_count": 55,
      "outputs": [
        {
          "output_type": "execute_result",
          "data": {
            "text/plain": [
              "Text(0.5, 1.0, 'Maximum and minimum price according to location')"
            ]
          },
          "metadata": {},
          "execution_count": 55
        },
        {
          "output_type": "display_data",
          "data": {
            "image/png": "[encoded data removed]",
            "text/plain": [
              "<Figure size 432x288 with 1 Axes>"
            ]
          },
          "metadata": {
            "needs_background": "light"
          }
        }
      ]
    },
    {
      "cell_type": "markdown",
      "metadata": {
        "id": "NmNjXMUeQFrq"
      },
      "source": [
        "#4.Most Popular/demanded host of Airbnb in New york\n"
      ]
    },
    {
      "cell_type": "code",
      "metadata": {
        "colab": {
          "base_uri": "https://localhost:8080/",
          "height": 417
        },
        "id": "MG-IZZSMP-vM",
        "outputId": "6a262df8-545c-45cb-bda0-29e5cf413ea1"
      },
      "source": [
        "#Get the host based on number of reviews\n",
        "host_based_on_review_df = airbnb_price_df.groupby(['host_id','host_name'],as_index=False)['number_of_reviews'].sum().sort_values(['number_of_reviews'],ascending = False)\n",
        "host_based_on_review_df"
      ],
      "execution_count": 24,
      "outputs": [
        {
          "output_type": "execute_result",
          "data": {
            "text/html": [
              "<div>\n",
              "<style scoped>\n",
              "    .dataframe tbody tr th:only-of-type {\n",
              "        vertical-align: middle;\n",
              "    }\n",
              "\n",
              "    .dataframe tbody tr th {\n",
              "        vertical-align: top;\n",
              "    }\n",
              "\n",
              "    .dataframe thead th {\n",
              "        text-align: right;\n",
              "    }\n",
              "</style>\n",
              "<table border=\"1\" class=\"dataframe\">\n",
              "  <thead>\n",
              "    <tr style=\"text-align: right;\">\n",
              "      <th></th>\n",
              "      <th>host_id</th>\n",
              "      <th>host_name</th>\n",
              "      <th>number_of_reviews</th>\n",
              "    </tr>\n",
              "  </thead>\n",
              "  <tbody>\n",
              "    <tr>\n",
              "      <th>17445</th>\n",
              "      <td>37312959</td>\n",
              "      <td>Maya</td>\n",
              "      <td>2273</td>\n",
              "    </tr>\n",
              "    <tr>\n",
              "      <th>947</th>\n",
              "      <td>344035</td>\n",
              "      <td>Brooklyn&amp;   Breakfast    -Len-</td>\n",
              "      <td>2205</td>\n",
              "    </tr>\n",
              "    <tr>\n",
              "      <th>15359</th>\n",
              "      <td>26432133</td>\n",
              "      <td>Danielle</td>\n",
              "      <td>2017</td>\n",
              "    </tr>\n",
              "    <tr>\n",
              "      <th>17112</th>\n",
              "      <td>35524316</td>\n",
              "      <td>Yasu &amp; Akiko</td>\n",
              "      <td>1971</td>\n",
              "    </tr>\n",
              "    <tr>\n",
              "      <th>17931</th>\n",
              "      <td>40176101</td>\n",
              "      <td>Brady</td>\n",
              "      <td>1818</td>\n",
              "    </tr>\n",
              "    <tr>\n",
              "      <th>...</th>\n",
              "      <td>...</td>\n",
              "      <td>...</td>\n",
              "      <td>...</td>\n",
              "    </tr>\n",
              "    <tr>\n",
              "      <th>15123</th>\n",
              "      <td>25376759</td>\n",
              "      <td>Theis</td>\n",
              "      <td>1</td>\n",
              "    </tr>\n",
              "    <tr>\n",
              "      <th>15126</th>\n",
              "      <td>25394253</td>\n",
              "      <td>Pete</td>\n",
              "      <td>1</td>\n",
              "    </tr>\n",
              "    <tr>\n",
              "      <th>15144</th>\n",
              "      <td>25475028</td>\n",
              "      <td>Mark</td>\n",
              "      <td>1</td>\n",
              "    </tr>\n",
              "    <tr>\n",
              "      <th>26620</th>\n",
              "      <td>170413197</td>\n",
              "      <td>Rebecca</td>\n",
              "      <td>1</td>\n",
              "    </tr>\n",
              "    <tr>\n",
              "      <th>0</th>\n",
              "      <td>2438</td>\n",
              "      <td>Tasos</td>\n",
              "      <td>1</td>\n",
              "    </tr>\n",
              "  </tbody>\n",
              "</table>\n",
              "<p>30232 rows × 3 columns</p>\n",
              "</div>"
            ],
            "text/plain": [
              "         host_id                       host_name  number_of_reviews\n",
              "17445   37312959                            Maya               2273\n",
              "947       344035  Brooklyn&   Breakfast    -Len-               2205\n",
              "15359   26432133                        Danielle               2017\n",
              "17112   35524316                    Yasu & Akiko               1971\n",
              "17931   40176101                           Brady               1818\n",
              "...          ...                             ...                ...\n",
              "15123   25376759                           Theis                  1\n",
              "15126   25394253                            Pete                  1\n",
              "15144   25475028                            Mark                  1\n",
              "26620  170413197                         Rebecca                  1\n",
              "0           2438                           Tasos                  1\n",
              "\n",
              "[30232 rows x 3 columns]"
            ]
          },
          "metadata": {},
          "execution_count": 24
        }
      ]
    },
    {
      "cell_type": "code",
      "metadata": {
        "id": "lAHe3ervQOoZ"
      },
      "source": [
        "#Get the host based on availability in a year\n",
        "host_based_on_availability_df = airbnb_price_df.groupby(['host_id','host_name'],as_index=False)['availability_365'].mean().sort_values(['availability_365'],ascending = True)\n",
        "host_based_on_availability_df"
      ],
      "execution_count": null,
      "outputs": []
    },
    {
      "cell_type": "code",
      "metadata": {
        "id": "3kujiEUBQUAz"
      },
      "source": [
        "#Merge two dataframe based on number of reviews and availability in a year\n",
        "popular_host_df = pd.merge(host_based_on_review_df,host_based_on_availability_df,on = ['host_id','host_name']).sort_values(['availability_365','number_of_reviews'],ascending = [True,False]).rename(columns = {'number_of_reviews':'Number of reviews','availability_365':'Availability in a year'})\n",
        "# \n",
        "popular_host_df"
      ],
      "execution_count": null,
      "outputs": []
    },
    {
      "cell_type": "code",
      "metadata": {
        "colab": {
          "base_uri": "https://localhost:8080/"
        },
        "id": "1-aYmSk8SQNB",
        "outputId": "2cce45af-e1a4-4da7-f4b7-99364bb7a78f"
      },
      "source": [
        "airbnb_price_df['number_of_reviews'].max()"
      ],
      "execution_count": 69,
      "outputs": [
        {
          "output_type": "execute_result",
          "data": {
            "text/plain": [
              "629"
            ]
          },
          "metadata": {},
          "execution_count": 69
        }
      ]
    },
    {
      "cell_type": "code",
      "metadata": {
        "colab": {
          "base_uri": "https://localhost:8080/",
          "height": 203
        },
        "id": "bgRq-kSlQXQp",
        "outputId": "8e97f8ef-8dd0-4751-ecfc-a42fd8d5264f"
      },
      "source": [
        "#Most popular top 5 host in new york\n",
        "popular_host_df.head(5)"
      ],
      "execution_count": 91,
      "outputs": [
        {
          "output_type": "execute_result",
          "data": {
            "text/html": [
              "<div>\n",
              "<style scoped>\n",
              "    .dataframe tbody tr th:only-of-type {\n",
              "        vertical-align: middle;\n",
              "    }\n",
              "\n",
              "    .dataframe tbody tr th {\n",
              "        vertical-align: top;\n",
              "    }\n",
              "\n",
              "    .dataframe thead th {\n",
              "        text-align: right;\n",
              "    }\n",
              "</style>\n",
              "<table border=\"1\" class=\"dataframe\">\n",
              "  <thead>\n",
              "    <tr style=\"text-align: right;\">\n",
              "      <th></th>\n",
              "      <th>host_id</th>\n",
              "      <th>host_name</th>\n",
              "      <th>Number of review</th>\n",
              "      <th>Availability in a year</th>\n",
              "    </tr>\n",
              "  </thead>\n",
              "  <tbody>\n",
              "    <tr>\n",
              "      <th>0</th>\n",
              "      <td>37312959</td>\n",
              "      <td>Maya</td>\n",
              "      <td>2273</td>\n",
              "      <td>164.800000</td>\n",
              "    </tr>\n",
              "    <tr>\n",
              "      <th>1</th>\n",
              "      <td>344035</td>\n",
              "      <td>Brooklyn&amp;   Breakfast    -Len-</td>\n",
              "      <td>2205</td>\n",
              "      <td>286.384615</td>\n",
              "    </tr>\n",
              "    <tr>\n",
              "      <th>2</th>\n",
              "      <td>26432133</td>\n",
              "      <td>Danielle</td>\n",
              "      <td>2017</td>\n",
              "      <td>288.600000</td>\n",
              "    </tr>\n",
              "    <tr>\n",
              "      <th>3</th>\n",
              "      <td>35524316</td>\n",
              "      <td>Yasu &amp; Akiko</td>\n",
              "      <td>1971</td>\n",
              "      <td>232.636364</td>\n",
              "    </tr>\n",
              "    <tr>\n",
              "      <th>4</th>\n",
              "      <td>40176101</td>\n",
              "      <td>Brady</td>\n",
              "      <td>1818</td>\n",
              "      <td>48.857143</td>\n",
              "    </tr>\n",
              "  </tbody>\n",
              "</table>\n",
              "</div>"
            ],
            "text/plain": [
              "    host_id  ... Availability in a year\n",
              "0  37312959  ...             164.800000\n",
              "1    344035  ...             286.384615\n",
              "2  26432133  ...             288.600000\n",
              "3  35524316  ...             232.636364\n",
              "4  40176101  ...              48.857143\n",
              "\n",
              "[5 rows x 4 columns]"
            ]
          },
          "metadata": {},
          "execution_count": 91
        }
      ]
    },
    {
      "cell_type": "code",
      "metadata": {
        "colab": {
          "base_uri": "https://localhost:8080/",
          "height": 334
        },
        "id": "Z9__MBqxQgPu",
        "outputId": "825c6415-a851-44e6-ba18-98836e4d1f33"
      },
      "source": [
        "popular_host_df.plot.scatter(x='Number of reviews', y='Availability in a year', xlim=(100,1000),ylim=(10,380));"
      ],
      "execution_count": 99,
      "outputs": [
        {
          "output_type": "display_data",
          "data": {
            "image/png": "[encoded data removed]",
            "text/plain": [
              "<Figure size 720x360 with 1 Axes>"
            ]
          },
          "metadata": {
            "needs_background": "light"
          }
        }
      ]
    },
    {
      "cell_type": "markdown",
      "metadata": {
        "id": "PX7dQSMPJGGy"
      },
      "source": [
        "#Heatmap"
      ]
    },
    {
      "cell_type": "code",
      "metadata": {
        "id": "XMI6EQG1VSdJ"
      },
      "source": [
        ""
      ],
      "execution_count": null,
      "outputs": []
    }
  ]
}